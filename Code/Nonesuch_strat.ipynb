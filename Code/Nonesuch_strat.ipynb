{
 "cells": [
  {
   "cell_type": "markdown",
   "metadata": {},
   "source": [
    "## Summary stratigraphic data\n",
    "\n",
    "This notebook develops a summary stratigraphic figure that used field data on stratigraphic thicknesses to illustrate changes in thickness "
   ]
  },
  {
   "cell_type": "code",
   "execution_count": 3,
   "metadata": {},
   "outputs": [],
   "source": [
    "import numpy as np\n",
    "import pandas as pd\n",
    "import matplotlib.pyplot as plt\n",
    "import numpy as np\n",
    "from matplotlib import gridspec\n",
    "import matplotlib.lines as mlines\n",
    "import matplotlib.patches as patches\n",
    "import matplotlib.ticker as tck\n",
    "import matplotlib\n",
    "\n",
    "%config InlineBackend.figure_format='retina'"
   ]
  },
  {
   "cell_type": "markdown",
   "metadata": {},
   "source": [
    "## Presque Isle River stratigraphy\n",
    "\n",
    "1730 meters as the crow flies down dip. Dips of 32º that shallow to 22º\n",
    "\n",
    "Lowermost 180 meters as the crow flies is conglomerate dominated than transitions to braid-plain facies"
   ]
  },
  {
   "cell_type": "code",
   "execution_count": 9,
   "metadata": {},
   "outputs": [
    {
     "data": {
      "text/plain": [
       "812.1858036195911"
      ]
     },
     "execution_count": 9,
     "metadata": {},
     "output_type": "execute_result"
    }
   ],
   "source": [
    "np.sin(np.deg2rad(28))*1730"
   ]
  },
  {
   "cell_type": "code",
   "execution_count": 10,
   "metadata": {},
   "outputs": [
    {
     "data": {
      "text/plain": [
       "84.50488130146034"
      ]
     },
     "execution_count": 10,
     "metadata": {},
     "output_type": "execute_result"
    }
   ],
   "source": [
    "np.sin(np.deg2rad(28))*180"
   ]
  },
  {
   "cell_type": "code",
   "execution_count": 56,
   "metadata": {},
   "outputs": [],
   "source": [
    "Kallander_volc_color = '#365c8d'\n",
    "Portage_Lake_volc_color = '#277e8e'\n",
    "Porcupine_volc_color = '#1fa187'\n",
    "CHC_color = '#fcc25d'\n",
    "Nonesuch_lake_color = '#545046'\n",
    "Nonesuch_fluvial_color = '#db806a'"
   ]
  },
  {
   "cell_type": "code",
   "execution_count": 57,
   "metadata": {},
   "outputs": [
    {
     "data": {
      "image/png": "[encoded data removed]",
      "text/plain": [
       "<Figure size 648x288 with 1 Axes>"
      ]
     },
     "metadata": {
      "image/png": {
       "height": 231,
       "width": 516
      }
     },
     "output_type": "display_data"
    }
   ],
   "source": [
    "plt.figure(figsize=(9,4))\n",
    "ax = plt.subplot()\n",
    "\n",
    "#DG Summary Strat\n",
    "\n",
    "base_volc = -1000\n",
    "top_volc = 0\n",
    "top_CHC = 135.4\n",
    "top_lake1 = 134.0 + 6.2\n",
    "base_lake2 = 134.0 + 11.6\n",
    "top_lake2 = 134.0 + 15.4\n",
    "base_lake3 = 134.0 + 19.2\n",
    "top_lake3 = 134.0 + 22.9\n",
    "base_lake4 = 134.0 + 27.0\n",
    "top_lake4 = 134.0 + 37.2\n",
    "base_lake5 = 134.0 + 48.6\n",
    "top_lake5 = 134.0 + 51.2\n",
    "base_lake6 = 134.0 + 64.5\n",
    "top_lake6 = 134.0 + 72.0\n",
    "base_lake7 = 134.0 + 64.5\n",
    "top_lake7 = 134.0 + 72.0\n",
    "\n",
    "DG_x = 0\n",
    "DG_width = 0.4\n",
    "DG_y_offset = 200\n",
    "\n",
    "volc_rect = patches.Rectangle((DG_x, base_volc+DG_y_offset), DG_width, top_volc-base_volc, facecolor=Kallander_volc_color)\n",
    "ax.add_patch(volc_rect)\n",
    "CHC_rect = patches.Rectangle((DG_x, top_volc+DG_y_offset), DG_width, top_CHC-top_volc, facecolor=CHC_color)\n",
    "ax.add_patch(CHC_rect)\n",
    "Lake1_rect = patches.Rectangle((DG_x, top_CHC+DG_y_offset), DG_width, top_lake1-top_CHC, facecolor=Nonesuch_lake_color)\n",
    "ax.add_patch(Lake1_rect)\n",
    "Fluvial1_rect = patches.Rectangle((DG_x, top_lake1+DG_y_offset), DG_width, base_lake2-top_lake1, facecolor=Nonesuch_fluvial_color)\n",
    "ax.add_patch(Fluvial1_rect)\n",
    "Lake2_rect = patches.Rectangle((DG_x, base_lake2+DG_y_offset), DG_width, top_lake2-base_lake2, facecolor=Nonesuch_lake_color)\n",
    "ax.add_patch(Lake2_rect)\n",
    "Fluvial2_rect = patches.Rectangle((DG_x, top_lake2+DG_y_offset), DG_width, base_lake3-top_lake2, facecolor=Nonesuch_fluvial_color)\n",
    "ax.add_patch(Fluvial2_rect)\n",
    "Lake3_rect = patches.Rectangle((DG_x, base_lake3+DG_y_offset), DG_width, top_lake3-base_lake3, facecolor=Nonesuch_lake_color)\n",
    "ax.add_patch(Lake3_rect)\n",
    "Fluvial3_rect = patches.Rectangle((DG_x, top_lake3+DG_y_offset), DG_width, base_lake4-top_lake3, facecolor=Nonesuch_fluvial_color)\n",
    "ax.add_patch(Fluvial3_rect)\n",
    "Lake4_rect = patches.Rectangle((DG_x, base_lake4+DG_y_offset), DG_width, top_lake4-base_lake4, facecolor=Nonesuch_lake_color)\n",
    "ax.add_patch(Lake4_rect)\n",
    "Fluvial4_rect = patches.Rectangle((DG_x, top_lake4+DG_y_offset), DG_width, base_lake5-top_lake4, facecolor=Nonesuch_fluvial_color)\n",
    "ax.add_patch(Fluvial4_rect)\n",
    "Lake5_rect = patches.Rectangle((DG_x, base_lake5+DG_y_offset), DG_width, top_lake5-base_lake5, facecolor=Nonesuch_lake_color)\n",
    "ax.add_patch(Lake5_rect)\n",
    "Fluvial5_rect = patches.Rectangle((DG_x, top_lake5+DG_y_offset), DG_width, base_lake6-top_lake5, facecolor=Nonesuch_fluvial_color)\n",
    "ax.add_patch(Fluvial5_rect)\n",
    "Lake6_rect = patches.Rectangle((DG_x, base_lake6+DG_y_offset), DG_width, top_lake6-base_lake6, facecolor=Nonesuch_lake_color)\n",
    "ax.add_patch(Lake6_rect)\n",
    "Fluvial6_rect = patches.Rectangle((DG_x, top_lake6+DG_y_offset), DG_width, base_lake7-top_lake6, facecolor=Nonesuch_fluvial_color)\n",
    "ax.add_patch(Fluvial6_rect)\n",
    "Lake7_rect = patches.Rectangle((DG_x, base_lake7+DG_y_offset), DG_width, top_lake7-base_lake7, facecolor=Nonesuch_lake_color)\n",
    "ax.add_patch(Lake7_rect)\n",
    "Freda_rect = patches.Rectangle((DG_x, top_lake7+DG_y_offset), DG_width, 200, facecolor=Nonesuch_fluvial_color)\n",
    "ax.add_patch(Freda_rect)\n",
    "\n",
    "#PRF Summary Strat\n",
    "\n",
    "base_volc = -1000\n",
    "top_volc = 7.5 + 18    #there is cover between 7.5 and 43.5, but we will split the difference and put the contact halfway through the cover\n",
    "base_CHC = 43.5 - 18\n",
    "top_CHC = 267.1 + 41.1\n",
    "top_lake1 = 267.1 + 57.3\n",
    "base_lake2 = 267.1 + 69.4\n",
    "top_lake2 = 267.1 + 106.8\n",
    "base_lake3 = 267.1 + 115.0\n",
    "top_lake3 = 267.1 + 159.5\n",
    "\n",
    "PIR_x = 1.3\n",
    "PIR_width = 0.4\n",
    "\n",
    "volc_rect = patches.Rectangle((PIR_x, base_volc), PIR_width, top_volc-base_volc, facecolor=Portage_Lake_volc_color)\n",
    "ax.add_patch(volc_rect)\n",
    "CHC_rect = patches.Rectangle((PIR_x, base_CHC), PIR_width, top_CHC-base_CHC, facecolor=CHC_color)\n",
    "ax.add_patch(CHC_rect)\n",
    "Lake1_rect = patches.Rectangle((PIR_x, top_CHC), PIR_width, top_lake1-top_CHC, facecolor=Nonesuch_lake_color)\n",
    "ax.add_patch(Lake1_rect)\n",
    "Fluvial1_rect = patches.Rectangle((PIR_x, top_lake1), PIR_width, base_lake2-top_lake1, facecolor=Nonesuch_fluvial_color)\n",
    "ax.add_patch(Fluvial1_rect)\n",
    "Lake2_rect = patches.Rectangle((PIR_x, base_lake2), PIR_width, top_lake2-base_lake2, facecolor=Nonesuch_lake_color)\n",
    "ax.add_patch(Lake2_rect)\n",
    "Fluvial2_rect = patches.Rectangle((PIR_x, top_lake2), PIR_width, base_lake3-top_lake2, facecolor=Nonesuch_fluvial_color)\n",
    "ax.add_patch(Fluvial2_rect)\n",
    "Lake3_rect = patches.Rectangle((PIR_x, base_lake3), PIR_width, top_lake3-base_lake3, facecolor=Nonesuch_lake_color)\n",
    "ax.add_patch(Lake3_rect)\n",
    "Freda_rect = patches.Rectangle((PIR_x, top_lake3), PIR_width, 200, facecolor=Nonesuch_fluvial_color)\n",
    "ax.add_patch(Freda_rect)\n",
    "\n",
    "\n",
    "#Montreal River Summary Strat\n",
    "\n",
    "base_volc = -500\n",
    "top_volc = 0\n",
    "top_CHC = 640\n",
    "top_lake1 = 640 + 25.5\n",
    "base_lake2 = 640 + 37.5\n",
    "top_lake2 = 640 + 51\n",
    "base_lake3 = 640 + 63.5\n",
    "top_lake3 = 640 + 79.1\n",
    "base_lake4 = 640 + 83.6\n",
    "top_lake4 = 640 + 126.1\n",
    "\n",
    "MR_x = 2.6\n",
    "MR_width = 0.4\n",
    "MR_y_offset = -335\n",
    "\n",
    "volc_rect = patches.Rectangle((MR_x, base_volc+MR_y_offset), MR_width, top_volc-base_volc, facecolor=Porcupine_volc_color)\n",
    "ax.add_patch(volc_rect)\n",
    "CHC_rect = patches.Rectangle((MR_x, top_volc+MR_y_offset), MR_width, top_CHC-top_volc, facecolor=CHC_color)\n",
    "ax.add_patch(CHC_rect)\n",
    "Lake1_rect = patches.Rectangle((MR_x, top_CHC+MR_y_offset), MR_width, top_lake1-top_CHC, facecolor=Nonesuch_lake_color)\n",
    "ax.add_patch(Lake1_rect)\n",
    "Fluvial1_rect = patches.Rectangle((MR_x, top_lake1+MR_y_offset), MR_width, base_lake2-top_lake1, facecolor=Nonesuch_fluvial_color)\n",
    "ax.add_patch(Fluvial1_rect)\n",
    "Lake2_rect = patches.Rectangle((MR_x, base_lake2+MR_y_offset), MR_width, top_lake2-base_lake2, facecolor=Nonesuch_lake_color)\n",
    "ax.add_patch(Lake2_rect)\n",
    "Fluvial2_rect = patches.Rectangle((MR_x, top_lake2+MR_y_offset), MR_width, base_lake3-top_lake2, facecolor=Nonesuch_fluvial_color)\n",
    "ax.add_patch(Fluvial2_rect)\n",
    "Lake3_rect = patches.Rectangle((MR_x, base_lake3+MR_y_offset), MR_width, top_lake3-base_lake3, facecolor=Nonesuch_lake_color)\n",
    "ax.add_patch(Lake3_rect)\n",
    "Fluvial3_rect = patches.Rectangle((MR_x, top_lake3+MR_y_offset), MR_width, base_lake4-top_lake3, facecolor=Nonesuch_fluvial_color)\n",
    "ax.add_patch(Fluvial3_rect)\n",
    "Lake4_rect = patches.Rectangle((MR_x, base_lake4+MR_y_offset), MR_width, top_lake4-base_lake4, facecolor=Nonesuch_lake_color)\n",
    "ax.add_patch(Lake4_rect)\n",
    "Freda_rect = patches.Rectangle((MR_x, top_lake4+MR_y_offset), MR_width, 200, facecolor=Nonesuch_fluvial_color)\n",
    "ax.add_patch(Freda_rect)\n",
    "\n",
    "#Presque Isle River summary strat\n",
    "\n",
    "base_volc = -500\n",
    "top_volc = 0\n",
    "top_CHC = 810\n",
    "top_lake1 = 810 + 307\n",
    "\n",
    "PIR_x = 6.3\n",
    "PIR_width = 0.4\n",
    "PIR_y_offset = -620\n",
    "\n",
    "volc_rect = patches.Rectangle((PIR_x, base_volc+PIR_y_offset), PIR_width, top_volc-base_volc, facecolor=Porcupine_volc_color)\n",
    "ax.add_patch(volc_rect)\n",
    "CHC_rect = patches.Rectangle((PIR_x, top_volc+PIR_y_offset), PIR_width, top_CHC-top_volc, facecolor=CHC_color)\n",
    "ax.add_patch(CHC_rect)\n",
    "Lake1_rect = patches.Rectangle((PIR_x, top_CHC+PIR_y_offset), PIR_width, top_lake1-top_CHC, facecolor=Nonesuch_lake_color)\n",
    "ax.add_patch(Lake1_rect)\n",
    "Freda_rect = patches.Rectangle((PIR_x, top_lake1+PIR_y_offset), PIR_width, 200, facecolor=Nonesuch_fluvial_color)\n",
    "ax.add_patch(Freda_rect)\n",
    "\n",
    "#scale bar\n",
    "\n",
    "base_scale = -750\n",
    "\n",
    "scale_x = 7.5\n",
    "scale_width = 0.1\n",
    "\n",
    "scale_rect = patches.Rectangle((scale_x, base_scale), scale_width, 100, facecolor='black',edgecolor='black')\n",
    "ax.add_patch(scale_rect)\n",
    "scale_rect = patches.Rectangle((scale_x, base_scale+100), scale_width, 100, facecolor='white',edgecolor='black')\n",
    "ax.add_patch(scale_rect)\n",
    "scale_rect = patches.Rectangle((scale_x, base_scale+200), scale_width, 100, facecolor='black',edgecolor='black')\n",
    "ax.add_patch(scale_rect)\n",
    "scale_rect = patches.Rectangle((scale_x, base_scale+300), scale_width, 100, facecolor='white',edgecolor='black')\n",
    "ax.add_patch(scale_rect)\n",
    "\n",
    "plt.gca().spines['top'].set_visible(False)\n",
    "plt.gca().spines['bottom'].set_visible(False)\n",
    "plt.gca().set_xticks([])\n",
    "\n",
    "plt.gca().spines['left'].set_visible(False)\n",
    "plt.gca().spines['right'].set_visible(False)\n",
    "plt.gca().set_yticks([])\n",
    "\n",
    "plt.ylim(-750,600)\n",
    "plt.xlim(-0.5,8)\n",
    "\n",
    "plt.savefig('shazam_output.pdf')\n",
    "plt.show()"
   ]
  }
 ],
 "metadata": {
  "kernelspec": {
   "display_name": "Python 3",
   "language": "python",
   "name": "python3"
  },
  "language_info": {
   "codemirror_mode": {
    "name": "ipython",
    "version": 3
   },
   "file_extension": ".py",
   "mimetype": "text/x-python",
   "name": "python",
   "nbconvert_exporter": "python",
   "pygments_lexer": "ipython3",
   "version": "3.8.5"
  }
 },
 "nbformat": 4,
 "nbformat_minor": 4
}
